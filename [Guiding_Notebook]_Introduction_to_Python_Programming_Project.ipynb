{
  "nbformat": 4,
  "nbformat_minor": 0,
  "metadata": {
    "colab": {
      "name": "[Guiding Notebook] Introduction to Python Programming: Project",
      "provenance": [],
      "toc_visible": true,
      "include_colab_link": true
    },
    "kernelspec": {
      "name": "python3",
      "display_name": "Python 3"
    },
    "language_info": {
      "name": "python"
    }
  },
  "cells": [
    {
      "cell_type": "markdown",
      "metadata": {
        "id": "view-in-github",
        "colab_type": "text"
      },
      "source": [
        "<a href=\"https://colab.research.google.com/github/Immaculate-Wakio/My-Journey/blob/main/%5BGuiding_Notebook%5D_Introduction_to_Python_Programming_Project.ipynb\" target=\"_parent\"><img src=\"https://colab.research.google.com/assets/colab-badge.svg\" alt=\"Open In Colab\"/></a>"
      ]
    },
    {
      "cell_type": "markdown",
      "metadata": {
        "id": "C0MVEA2p5aPF"
      },
      "source": [
        "# AfterWork Data Science: Python Basics for Data Science Project"
      ]
    },
    {
      "cell_type": "markdown",
      "metadata": {
        "id": "iMj2wcK7RguK"
      },
      "source": [
        "## Problem Statement"
      ]
    },
    {
      "cell_type": "markdown",
      "metadata": {
        "id": "jhuHe8gDRii4"
      },
      "source": [
        "Create a program that performs some computation using the python programming language.\n",
        "Tigo Telcom provides a mobile subscription plan with 200 minutes of airtime and 200 text messages for $10 a month. Each additional minute of air time costs $.03, and other text messages cost $.001 each. The customer's bill is also subject to 14% VAT Tax. Write a python program that will read the no. of minutes and text messages used in a month, then displays the base charge, additional minutes (if any), other text messages (if any), the tax charged, and the total bill.\n",
        "A few things to note:\n",
        "* Your input should be in the form of a dictionary.\n",
        "* Your output should be more like an SMS message.\n",
        "* Display the charges in 2 decimal places.\n"
      ]
    },
    {
      "cell_type": "markdown",
      "metadata": {
        "id": "Rw1bfo1LdiBa"
      },
      "source": [
        "## Solution"
      ]
    },
    {
      "cell_type": "code",
      "metadata": {
        "id": "tMq41k-e5VNR"
      },
      "source": [
        "# Defining our dictionary\n",
        "# ---\n",
        "# We will create a dictionary of input data with the following keys: \n",
        "# minutes_used, minutes_included, texts_used, texts_included, \n",
        "# monthly_plan, costperminute, cost_per_sms, vat_tax.\n",
        "# ---\n",
        "mobile_subscriptions = int(input({'minutes_used': 200, 'minutes_included': 200,\n",
        "              'texts_used': 200,'texts_included':200,'monthly_plan':str(\"10\"),'cost_per_minute':float(\"0.03\")\n",
        "              ,'cost_per_sms':float(\"0.001\"),'vat_tax':float(\"0.001\")}))"
      ],
      "execution_count": null,
      "outputs": []
    },
    {
      "cell_type": "code",
      "metadata": {
        "id": "b0p2faHi5eHP",
        "outputId": "9a96fae0-d587-44c9-e9ed-90961106ff53",
        "colab": {
          "base_uri": "https://localhost:8080/",
          "height": 134
        }
      },
      "source": [
        "# Defining a function that takes in the dictionary and provides output\n",
        "def evaluateCharges(input_data):\n",
        "    '''\n",
        "    Function receives a dictionary containing minutes_used and\n",
        "    text_used as key/value pairs and returns a string\n",
        "    describing a breakdown of the charges applied\n",
        "    based on the values received.\n",
        "    '''\n",
        "    minutes_used = input_data['minutes_used']\n",
        "    texts_used = input_data['texts_used']\n",
        "\n",
        "    \n",
        "    # Performing different actions based on the conditions indicated in the question.\n",
        "    if minutes_used > 200:\n",
        "        aditional_minutes = extra_minutes * float(\"o.o3\")\n",
        "        basecharge_minutes = basecharge + (extra_minutes * float(\"0.03\")\n",
        "        \n",
        "    if texts_used > 200:\n",
        "        aditional_texts = texts_used - (extra_texts*0.001)\n",
        "        basecharge_texts = basecharge + (extra_texts * 0.001)\n",
        "        \n",
        "    VAT_TAX = basecharge_minutes * (0.14%) + basecharge_texts * (0.14%)\n",
        "    basecharge += VAT_TAX\n",
        "    \n",
        "    # We can choose to format our basecharg  2dp\n",
        "    finalCharges =  round(minutes_used,texts_used,additional_texts,additional_minutes,basecharge,VAT_TAX) \n",
        "\n",
        "    # We then create a string with \n",
        "    output_string = str(finalCharges)\n",
        "\n",
        "    # the returning our output string\n",
        "    return print(output_string)\n",
        "        \n",
        "# Then calling our function and passing our dictionary\n",
        "YOUR CODE GOES HERE\n",
        "print(\"output_string\")"
      ],
      "execution_count": 2,
      "outputs": [
        {
          "output_type": "error",
          "ename": "SyntaxError",
          "evalue": "ignored",
          "traceback": [
            "\u001b[0;36m  File \u001b[0;32m\"<ipython-input-2-b21afa319290>\"\u001b[0;36m, line \u001b[0;32m10\u001b[0m\n\u001b[0;31m    texts_used = YOUR CODE GOES HERE\u001b[0m\n\u001b[0m                         ^\u001b[0m\n\u001b[0;31mSyntaxError\u001b[0m\u001b[0;31m:\u001b[0m invalid syntax\n"
          ]
        }
      ]
    }
  ]
}